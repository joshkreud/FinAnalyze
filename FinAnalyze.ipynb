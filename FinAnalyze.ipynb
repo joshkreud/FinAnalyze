{
 "cells": [
  {
   "cell_type": "code",
   "execution_count": 1,
   "metadata": {
    "Collapsed": "false"
   },
   "outputs": [
    {
     "data": {
      "application/javascript": [
       "IPython.notebook.set_autosave_interval(0)"
      ]
     },
     "metadata": {},
     "output_type": "display_data"
    },
    {
     "name": "stdout",
     "output_type": "stream",
     "text": [
      "Autosave disabled\n"
     ]
    }
   ],
   "source": [
    "%autosave 0\n",
    "%matplotlib inline\n",
    "%config IPCompleter.greedy=True\n",
    "%load_ext autoreload\n",
    "%autoreload 2\n",
    "from IPython.core.interactiveshell import InteractiveShell\n",
    "InteractiveShell.ast_node_interactivity = \"all\"\n",
    "\n",
    "import pandas as pd\n",
    "pd.set_option(\"display.max_rows\", 100)\n",
    "pd.set_option(\"display.max_columns\", 50)\n",
    "pd.set_option('display.max_colwidth', -1)\n",
    "pd.set_option('display.precision',3)\n",
    "pd.options.display.float_format = '{:,.2f}'.format\n",
    "\n",
    "import numpy as np\n",
    "import xlwings as xw\n",
    "from pathlib import Path\n",
    "from tqdm.auto import tqdm\n",
    "from typing import List,Tuple\n",
    "from datetime import datetime\n",
    "\n",
    "import ipywidgets as widgets\n",
    "import re\n",
    "from IPython.display import display, HTML,Markdown\n",
    "\n",
    "\n",
    "\n",
    "def printmd(string, color=None):\n",
    "    colorstr = \"<span style='color:{}'>{}</span>\".format(color, string)\n",
    "    display(Markdown(colorstr))"
   ]
  },
  {
   "cell_type": "code",
   "execution_count": 2,
   "metadata": {
    "Collapsed": "false"
   },
   "outputs": [
    {
     "data": {
      "text/html": [
       "<style type=\"text/css\">\n",
       "table.dataframe td, table.dataframe th {\n",
       "    border: 1px  black solid !important;\n",
       "  color: black !important;\n",
       "}\n",
       "</style>\n"
      ],
      "text/plain": [
       "<IPython.core.display.HTML object>"
      ]
     },
     "metadata": {},
     "output_type": "display_data"
    }
   ],
   "source": [
    "%%HTML\n",
    "<style type=\"text/css\">\n",
    "table.dataframe td, table.dataframe th {\n",
    "    border: 1px  black solid !important;\n",
    "  color: black !important;\n",
    "}\n",
    "</style>"
   ]
  },
  {
   "cell_type": "markdown",
   "metadata": {
    "Collapsed": "false"
   },
   "source": [
    "## Getting Data"
   ]
  },
  {
   "cell_type": "code",
   "execution_count": 3,
   "metadata": {
    "Collapsed": "false"
   },
   "outputs": [
    {
     "data": {
      "application/vnd.jupyter.widget-view+json": {
       "model_id": "fd9f3623c98e4f7891a9b0e2616c110e",
       "version_major": 2,
       "version_minor": 0
      },
      "text/plain": [
       "HBox(children=(FloatProgress(value=0.0, description='Loading Reports', max=14.0, style=ProgressStyle(descripti…"
      ]
     },
     "metadata": {},
     "output_type": "display_data"
    },
    {
     "name": "stdout",
     "output_type": "stream",
     "text": [
      "\n"
     ]
    }
   ],
   "source": [
    "\n",
    "def get_giro(path)->pd.DataFrame:\n",
    "    if type(path) is str:\n",
    "        path = Path(path)\n",
    "    files = []\n",
    "    for f in path.glob('*'):\n",
    "        files.append(f)\n",
    "    \n",
    "    df = pd.DataFrame()\n",
    "    t =  tqdm(files,desc='Loading Reports')\n",
    "    for f in t:\n",
    "        if f.suffix == '.csv':\n",
    "            t.set_postfix_str(f'Loading: {f.name}')\n",
    "            data = pd.read_csv(f,\n",
    "                               delimiter=';',\n",
    "                               decimal=',',\n",
    "                               thousands ='.',\n",
    "                               encoding='utf-8',\n",
    "                               float_precision=3,\n",
    "                               parse_dates = ['﻿Buchung','Valuta'],\n",
    "                               dtype={\n",
    "                                   'Betrag in EUR':float\n",
    "                               }\n",
    "                              ).rename(columns={'﻿Buchung':'Buchung'})\n",
    "            data['Datei_name'] = f.name\n",
    "            data['Datei_datum'] = datetime.fromtimestamp(f.stat().st_mtime)\n",
    "            df = df.append(data,sort=True,ignore_index=True)\n",
    "    df['BuchungsKey'] = df['Buchung'].astype(str) + '-' + df['IBAN / Konto-Nr.'] + '-' + df['Verwendungszweck']\n",
    "    return df\n",
    "        \n",
    "\n",
    "df_giro = get_giro('./Giro')"
   ]
  },
  {
   "cell_type": "code",
   "execution_count": 4,
   "metadata": {
    "Collapsed": "false"
   },
   "outputs": [],
   "source": [
    "def get_newest(df:pd.DataFrame,sortcol:str,splitcol:str,keycol:str)->pd.DataFrame:\n",
    "    \"\"\"Will split the DF at unique sort+split. \n",
    "    Then sort everything after sort and build a new DF, where each key is only taken from one sort+split combo.\n",
    "    \"\"\"\n",
    "    splitdic = {}\n",
    "    for split,sort in zip(df[splitcol].unique(),df[sortcol].unique()):#loop every unique combination\n",
    "        splitdic[sort]=(split,df.loc[df[splitcol]==split])\n",
    "    \n",
    "    out_df = pd.DataFrame()  #initialize output\n",
    "    for time,data in  sorted(splitdic.items(), reverse=True):  #loop dict sorted by key\n",
    "        filename, df = data #unpack sel and data\n",
    "        if out_df.empty:\n",
    "            out_df = df # first iteration fill\n",
    "        else:\n",
    "            keys = out_df[keycol].unique() #get keys already present in out_df\n",
    "            df = df.loc[~df[keycol].isin(keys)] # Filter out all already added keys\n",
    "            out_df = out_df.append(df,sort=True,ignore_index=True)\n",
    "            \n",
    "    return out_df\n",
    "        \n",
    "df_unique = get_newest(df_giro,'Datei_datum','Datei_name','BuchungsKey')"
   ]
  },
  {
   "cell_type": "code",
   "execution_count": 5,
   "metadata": {
    "Collapsed": "false"
   },
   "outputs": [
    {
     "data": {
      "text/plain": [
       "BIC / BLZ             object        \n",
       "Betrag in EUR         float64       \n",
       "Buchung               datetime64[ns]\n",
       "BuchungsKey           object        \n",
       "Buchungstext          object        \n",
       "Datei_datum           datetime64[ns]\n",
       "Datei_name            object        \n",
       "IBAN / Konto-Nr.      object        \n",
       "Kategorie             object        \n",
       "Sender / Empfänger    object        \n",
       "Stichwörter           object        \n",
       "Umsatz geteilt        object        \n",
       "Valuta                datetime64[ns]\n",
       "Verwendungszweck      object        \n",
       "dtype: object"
      ]
     },
     "execution_count": 5,
     "metadata": {},
     "output_type": "execute_result"
    }
   ],
   "source": [
    "df_unique.dtypes"
   ]
  },
  {
   "cell_type": "code",
   "execution_count": 6,
   "metadata": {
    "Collapsed": "false"
   },
   "outputs": [],
   "source": [
    "main_categorys = {\n",
    "    'Anwaltskosten': 'Misc',\n",
    "    'Arzneimittel & Medizinprodukte': 'Living',\n",
    "    'Berufsunfähigkeitsversicherung': 'Insurance',\n",
    "    'Bildung (Sonstiges)': 'Education',\n",
    "    'Bücher, Zeitschriften & Spiele': 'Recreation',\n",
    "    'Computer- und Videospiele': 'Recreation',\n",
    "    'Einkäufe & Dienstleistungen (Sonstiges)': 'Misc',\n",
    "    'Einnahmen (Sonstiges)': 'Income',\n",
    "    'Elektronik & Computer': 'Misc',\n",
    "    'Essen & Trinken (Sonstiges)': 'Food',\n",
    "    'Finanzierung & Tilgung': 'Living',\n",
    "    'Flüge, Autos & Beförderung': 'Transportaion',\n",
    "    'Freizeit & Sport (Sonstiges)': 'Recreation',\n",
    "    'Friseur & Körperpflege': 'Living',\n",
    "    'Gebühren & Bußgelder': 'Misc',\n",
    "    'Gebühren & Zinsen': 'Misc',\n",
    "    'Gehalt & Lohn': 'Income',\n",
    "    'Geldautomat & Barauszahlung': 'Misc',\n",
    "    'Geschenke & Spenden': 'Misc',\n",
    "    'Geschäftsreisen': 'Misc',\n",
    "    'Gesundheit & Pflege (Sonstiges)': 'Living',\n",
    "    'Getränke': 'Food',\n",
    "    'Haftpflichtversicherung': 'Insurance',\n",
    "    'Haushaltsgeräte & Einrichtung': 'Living',\n",
    "    'Hobbies': 'Recreation',\n",
    "    'Hotels & Unterkunft': 'Recreation',\n",
    "    'Internetdienstleistungen': 'Misc',\n",
    "    'Kfz: Service & Zubehör': 'Transportaion',\n",
    "    'Kfz: Stellplatz': 'Transportaion',\n",
    "    'Kfz: Steuer': 'Transportaion',\n",
    "    'Kfz: Versicherung': 'Transportaion',\n",
    "    'Kino, Theater & Events': 'Recreation',\n",
    "    'Kleidung & Schuhe': 'Living',\n",
    "    'Kommunikation & Unterhaltung': 'Living',\n",
    "    'Kultur & Unterhaltung (Sonstiges)': 'Recreation',\n",
    "    'Lebensmittel': 'Food',\n",
    "    'Leihgaben': 'Misc',\n",
    "    'Miete': 'Living',\n",
    "    'Miete & Pacht': 'Living',\n",
    "    'Mobilfunk': 'Living',\n",
    "    'Musik & Instrumente': 'Recreation',\n",
    "    'Musik, Filme & Apps': 'Living',\n",
    "    'Outdoor & Camping': 'Recreation',\n",
    "    'Post & Pakete': 'Misc',\n",
    "    'Renovierung & Instandhaltung': 'Living',\n",
    "    'Restaurants & Cafes': 'Food',\n",
    "    'Schmuck & Accessoires': 'Recreation',\n",
    "    'Schul- & Büromaterial': 'Education',\n",
    "    'Software': 'Misc',\n",
    "    'Sparen': 'Savings',\n",
    "    'Sparen & Anlegen (Sonstiges)': 'Savings',\n",
    "    'Sport': 'Recreation',\n",
    "    'Staatliche Hilfe': 'Income',\n",
    "    'Steuerberatung': 'Misc',\n",
    "    'Steuererstattungen': 'Income',\n",
    "    'Treibstoff': 'Transportaion',\n",
    "    'Umbuchung zwischen Konten ': 'Misc',\n",
    "    'Unkategorisierte Ausgaben': 'Misc',\n",
    "    'Unkategorisierte Einnahmen': 'Income',\n",
    "    'Unterricht, Studiengebühren & Kurse': 'Education',\n",
    "    'Urlaub: Essen & Trinken': 'Food',\n",
    "    'Urlaub: Freizeit & Unterhaltung': 'Recreation',\n",
    "    'Vereine & Mitgliedschaften': 'Recreation',\n",
    "    'Wellness & Sauna': 'Recreation',\n",
    "    'Wohnen: Nebenkosten': 'Living',\n",
    "    'Wohnen: Reinigung': 'Living',\n",
    "    'Workout & Fitness': 'Recreation',\n",
    "    'Zins- & Kapitalerträge': 'Income',\n",
    "    'Zubuchung': 'Income',\n",
    "    'konsumgüter': 'Recreation',\n",
    "    'Öffentliche Verkehrsmittel & Taxi': 'Transportaion'\n",
    "}\n",
    "\n"
   ]
  },
  {
   "cell_type": "code",
   "execution_count": 7,
   "metadata": {
    "Collapsed": "false"
   },
   "outputs": [],
   "source": [
    "df_maincats = df_unique.copy()\n",
    "df_maincats = df_maincats.merge(pd.DataFrame( [{'Cat':k,'MainCat':v} for k,v in main_categorys.items()]),left_on='Kategorie',right_on='Cat',how='left')"
   ]
  },
  {
   "cell_type": "code",
   "execution_count": 8,
   "metadata": {
    "Collapsed": "false"
   },
   "outputs": [],
   "source": [
    "#Input:\n",
    "granularity = 'Y'\n",
    "start_date = '01-01-2019'\n",
    "end_date = datetime.today() #'06-01-1997'\n",
    "\n",
    "##Processing\n",
    "piv_data = df_maincats.copy()\n",
    "datemask = (piv_data['Buchung'] > start_date) & (piv_data['Buchung'] <= end_date)\n",
    "\n",
    "piv_data = piv_data[datemask]\n",
    "\n",
    "piv = pd.pivot_table(piv_data, values='Betrag in EUR', index=['MainCat','Kategorie'], columns=pd.Grouper(freq=granularity, key='Buchung'), aggfunc='sum').dropna(how='all') # aggregate counts\n"
   ]
  },
  {
   "cell_type": "code",
   "execution_count": 9,
   "metadata": {
    "Collapsed": "false"
   },
   "outputs": [
    {
     "data": {
      "text/plain": [
       "['Income',\n",
       " 'Food',\n",
       " 'Insurance',\n",
       " 'Living',\n",
       " 'Misc',\n",
       " 'Savings',\n",
       " 'Recreation',\n",
       " 'Transportaion',\n",
       " 'Education']"
      ]
     },
     "execution_count": 9,
     "metadata": {},
     "output_type": "execute_result"
    }
   ],
   "source": [
    "[i for i in set(main_categorys.values())]"
   ]
  },
  {
   "cell_type": "code",
   "execution_count": 15,
   "metadata": {
    "Collapsed": "false"
   },
   "outputs": [
    {
     "data": {
      "application/vnd.jupyter.widget-view+json": {
       "model_id": "1551510c3b22487b9ee8910df025344e",
       "version_major": 2,
       "version_minor": 0
      },
      "text/plain": [
       "VBox(children=(HBox(children=(SelectMultiple(description='MainCategorys', index=(0, 1, 2, 3, 4, 5, 6, 7, 8), o…"
      ]
     },
     "metadata": {},
     "output_type": "display_data"
    }
   ],
   "source": [
    "maincat = widgets.SelectMultiple(\n",
    "    options=[i for i in set(main_categorys.values())],\n",
    "    value=[i for i in set(main_categorys.values())],\n",
    "    rows=20,\n",
    "    description='MainCategorys',\n",
    "    disabled=False\n",
    ")\n",
    "smallcat = widgets.SelectMultiple(\n",
    "    options=[i for i in set(main_categorys.keys())],\n",
    "    value=[i for i in set(main_categorys.keys())],\n",
    "    rows=20,\n",
    "    description='SmallCategorys',\n",
    "    disabled=False\n",
    ")\n",
    "\n",
    "\n",
    "def on_change(maincat,smallcat):\n",
    "    display(piv.loc[(piv.index.isin(maincat,level='MainCat'))&(piv.index.isin(smallcat,level='Kategorie'))])\n",
    "\n",
    "\n",
    "# Updates the image options based on directory value\n",
    "def update_smallcats(*args):\n",
    "    oldopts = smallcat.options\n",
    "    newopts =  [k for k,v in main_categorys.items() if v in maincat.value]\n",
    "    oldsel = smallcat.value\n",
    "    smallcat.options = newopts\n",
    "    newsel = [i for i in list(oldsel) + [i for i in newopts if i not in oldopts] if i in newopts]\n",
    "    smallcat.value = newsel\n",
    "    \n",
    "\n",
    "# Tie the image options to directory value\n",
    "maincat.observe(update_smallcats, 'value')\n",
    "\n",
    "mywid = widgets.interactive(on_change, maincat=maincat, smallcat=smallcat)\n",
    "controls = widgets.HBox(mywid.children[:-1], layout=widgets.Layout(flex_flow='row wrap'))\n",
    "output = mywid.children[-1]\n",
    "\n",
    "\n",
    "\n",
    "display(widgets.VBox([controls, output]))\n",
    "\n",
    "def on_button_clicked(b):\n",
    "    \n",
    "\n",
    "\n",
    "button = widgets.Button(description=\"Alle\")\n",
    "button.on_click(on_button_clicked)"
   ]
  },
  {
   "cell_type": "code",
   "execution_count": null,
   "metadata": {
    "Collapsed": "false"
   },
   "outputs": [],
   "source": []
  }
 ],
 "metadata": {
  "kernelspec": {
   "display_name": "Python [conda env:FinAnalyze]",
   "language": "python",
   "name": "conda-env-FinAnalyze-py"
  },
  "language_info": {
   "codemirror_mode": {
    "name": "ipython",
    "version": 3
   },
   "file_extension": ".py",
   "mimetype": "text/x-python",
   "name": "python",
   "nbconvert_exporter": "python",
   "pygments_lexer": "ipython3",
   "version": "3.7.6"
  }
 },
 "nbformat": 4,
 "nbformat_minor": 4
}
